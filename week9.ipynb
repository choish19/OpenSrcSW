{
 "cells": [
  {
   "cell_type": "code",
   "execution_count": 5,
   "id": "03f69fe9",
   "metadata": {},
   "outputs": [
    {
     "data": {
      "text/plain": [
       "(7, 36)"
      ]
     },
     "execution_count": 5,
     "metadata": {},
     "output_type": "execute_result"
    }
   ],
   "source": [
    "#실습문제 1번\n",
    "\n",
    "a = 456\n",
    "h = 456 / 60\n",
    "m = 456 % 60\n",
    "h = int(h)\n",
    "h, m"
   ]
  },
  {
   "cell_type": "code",
   "execution_count": 4,
   "id": "eb4a7be2",
   "metadata": {},
   "outputs": [
    {
     "name": "stdout",
     "output_type": "stream",
     "text": [
      "['김철수', '이영희', '임꺽정', '홍길동']\n",
      "김철수 2.8\n"
     ]
    }
   ],
   "source": [
    "#실습문제 2번\n",
    "\n",
    "d = {\"홍길동\":3.4, \"임꺽정\":4.0, \"김철수\":2.8, \"이영희\":3.9}\n",
    "k = d.keys()\n",
    "k_list = list(k)\n",
    "k_list.sort()\n",
    "print(k_list)\n",
    "\n",
    "key = k_list[0]\n",
    "v = d.get(key)\n",
    "print(key, v)"
   ]
  },
  {
   "cell_type": "code",
   "execution_count": null,
   "id": "20481708",
   "metadata": {},
   "outputs": [],
   "source": []
  }
 ],
 "metadata": {
  "kernelspec": {
   "display_name": "Python 3 (ipykernel)",
   "language": "python",
   "name": "python3"
  },
  "language_info": {
   "codemirror_mode": {
    "name": "ipython",
    "version": 3
   },
   "file_extension": ".py",
   "mimetype": "text/x-python",
   "name": "python",
   "nbconvert_exporter": "python",
   "pygments_lexer": "ipython3",
   "version": "3.10.4"
  }
 },
 "nbformat": 4,
 "nbformat_minor": 5
}
